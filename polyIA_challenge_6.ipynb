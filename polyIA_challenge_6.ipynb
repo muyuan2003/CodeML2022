{
  "nbformat": 4,
  "nbformat_minor": 0,
  "metadata": {
    "colab": {
      "provenance": []
    },
    "kernelspec": {
      "name": "python3",
      "display_name": "Python 3"
    },
    "language_info": {
      "name": "python"
    },
    "accelerator": "GPU"
  },
  "cells": [
    {
      "cell_type": "code",
      "execution_count": 1,
      "metadata": {
        "id": "wgM-1lMQGbFw"
      },
      "outputs": [],
      "source": [
        "import numpy as np\n",
        "import pandas as pd\n",
        "import numpy as np\n",
        "import random\n",
        "import tensorflow as tf\n",
        "import random"
      ]
    },
    {
      "cell_type": "code",
      "source": [
        "import time"
      ],
      "metadata": {
        "id": "x_sLBD8SNSNI"
      },
      "execution_count": 2,
      "outputs": []
    },
    {
      "cell_type": "code",
      "source": [
        "from google.colab import drive\n",
        "drive.mount('/content/drive')"
      ],
      "metadata": {
        "colab": {
          "base_uri": "https://localhost:8080/"
        },
        "id": "CyTbsZod6NZi",
        "outputId": "cdec71f3-dcd5-4c18-e4f1-eec7780cc7a1"
      },
      "execution_count": 3,
      "outputs": [
        {
          "output_type": "stream",
          "name": "stdout",
          "text": [
            "Mounted at /content/drive\n"
          ]
        }
      ]
    },
    {
      "cell_type": "code",
      "source": [
        "!unzip '/content/drive/MyDrive/challenge_6/participants_dataset.zip' -d '/content/data/'"
      ],
      "metadata": {
        "id": "4jSE49TsG25T"
      },
      "execution_count": null,
      "outputs": []
    },
    {
      "cell_type": "code",
      "source": [
        "def fix_seed_random(seed_value):\n",
        "    # 1. Set the `PYTHONHASHSEED` environment variable at a fixed value\n",
        "    import os\n",
        "    os.environ['PYTHONHASHSEED']=str(seed_value)\n",
        "\n",
        "    # 2. Set the `python` built-in pseudo-random generator at a fixed value\n",
        "    random.seed(seed_value)\n",
        "\n",
        "    # 3. Set the `numpy` pseudo-random generator at a fixed value\n",
        "\n",
        "    np.random.seed(seed_value)\n",
        "\n",
        "    # 4. Set the `tensorflow` pseudo-random generator at a fixed value\n",
        "\n",
        "    tf.random.set_seed(seed_value)\n",
        "    tf.compat.v1.set_random_seed(seed_value)\n",
        "\n",
        "    # 5. Configure a new global `tensorflow` session\n",
        "    from keras import backend as K\n",
        "    session_conf = tf.compat.v1.ConfigProto(intra_op_parallelism_threads=1, inter_op_parallelism_threads=1)\n",
        "    sess = tf.compat.v1.Session(graph=tf.compat.v1.get_default_graph(), config=session_conf)\n",
        "    tf.compat.v1.keras.backend.set_session(sess)\n",
        "\n",
        "    # 6. PyTorch seed\n",
        "    import torch\n",
        "    import torch.nn as nn\n",
        "    torch.manual_seed(123)\n",
        "    torch.cuda.manual_seed(123)\n",
        "    torch.backends.cudnn.enabled=False\n",
        "    torch.backends.cudnn.deterministic=True\n",
        "\n",
        "fix_seed_random(0)"
      ],
      "metadata": {
        "id": "_0ZOTNhkHNo0"
      },
      "execution_count": 5,
      "outputs": []
    },
    {
      "cell_type": "markdown",
      "source": [
        "## Data exploration"
      ],
      "metadata": {
        "id": "SoGBSj9dKbd2"
      }
    },
    {
      "cell_type": "code",
      "source": [
        "base_path = \"/content/data/new_dataset_participants/\"\n",
        "dataframe_filename = \"participants_dataset.csv\"\n",
        "df = pd.read_csv(base_path+dataframe_filename)\n",
        "\n",
        "train = df.dropna()\n",
        "test = df[df[\"label\"].isna()]\n",
        "\n",
        "print(f\"N data in train: {len(train)}\")\n",
        "print(f\"N data in test: {len(test)}\")\n",
        "train.head()\n"
      ],
      "metadata": {
        "colab": {
          "base_uri": "https://localhost:8080/",
          "height": 242
        },
        "id": "0t4PRrN5KYWW",
        "outputId": "55f652e1-e930-4bd2-b83b-abe33c8c10bb"
      },
      "execution_count": 6,
      "outputs": [
        {
          "output_type": "stream",
          "name": "stdout",
          "text": [
            "N data in train: 8216\n",
            "N data in test: 8052\n"
          ]
        },
        {
          "output_type": "execute_result",
          "data": {
            "text/plain": [
              "   ID                                           filename           label\n",
              "0   0  files/e2991a66-412d-4841-8dc0-524e38338a82 Lea...  Tomato_healthy\n",
              "1   1  files/e9392a5e-2fac-48c5-a23d-df3aa3f61048 Lea...  Tomato_healthy\n",
              "2   2  files/87a77f4d-38bd-42dc-bdd3-5f2a1fa95ca7 Lea...  Tomato_healthy\n",
              "3   3  files/efe6c986-b85c-40f1-8cb5-345acbb36b71 057...  Tomato_healthy\n",
              "4   4  files/cdf10741-0ed4-4a27-a2e9-8970e4426730 035...  Tomato_healthy"
            ],
            "text/html": [
              "\n",
              "  <div id=\"df-ca52ae7f-1211-48f6-b2d9-ec80d3b3fc68\">\n",
              "    <div class=\"colab-df-container\">\n",
              "      <div>\n",
              "<style scoped>\n",
              "    .dataframe tbody tr th:only-of-type {\n",
              "        vertical-align: middle;\n",
              "    }\n",
              "\n",
              "    .dataframe tbody tr th {\n",
              "        vertical-align: top;\n",
              "    }\n",
              "\n",
              "    .dataframe thead th {\n",
              "        text-align: right;\n",
              "    }\n",
              "</style>\n",
              "<table border=\"1\" class=\"dataframe\">\n",
              "  <thead>\n",
              "    <tr style=\"text-align: right;\">\n",
              "      <th></th>\n",
              "      <th>ID</th>\n",
              "      <th>filename</th>\n",
              "      <th>label</th>\n",
              "    </tr>\n",
              "  </thead>\n",
              "  <tbody>\n",
              "    <tr>\n",
              "      <th>0</th>\n",
              "      <td>0</td>\n",
              "      <td>files/e2991a66-412d-4841-8dc0-524e38338a82 Lea...</td>\n",
              "      <td>Tomato_healthy</td>\n",
              "    </tr>\n",
              "    <tr>\n",
              "      <th>1</th>\n",
              "      <td>1</td>\n",
              "      <td>files/e9392a5e-2fac-48c5-a23d-df3aa3f61048 Lea...</td>\n",
              "      <td>Tomato_healthy</td>\n",
              "    </tr>\n",
              "    <tr>\n",
              "      <th>2</th>\n",
              "      <td>2</td>\n",
              "      <td>files/87a77f4d-38bd-42dc-bdd3-5f2a1fa95ca7 Lea...</td>\n",
              "      <td>Tomato_healthy</td>\n",
              "    </tr>\n",
              "    <tr>\n",
              "      <th>3</th>\n",
              "      <td>3</td>\n",
              "      <td>files/efe6c986-b85c-40f1-8cb5-345acbb36b71 057...</td>\n",
              "      <td>Tomato_healthy</td>\n",
              "    </tr>\n",
              "    <tr>\n",
              "      <th>4</th>\n",
              "      <td>4</td>\n",
              "      <td>files/cdf10741-0ed4-4a27-a2e9-8970e4426730 035...</td>\n",
              "      <td>Tomato_healthy</td>\n",
              "    </tr>\n",
              "  </tbody>\n",
              "</table>\n",
              "</div>\n",
              "      <button class=\"colab-df-convert\" onclick=\"convertToInteractive('df-ca52ae7f-1211-48f6-b2d9-ec80d3b3fc68')\"\n",
              "              title=\"Convert this dataframe to an interactive table.\"\n",
              "              style=\"display:none;\">\n",
              "        \n",
              "  <svg xmlns=\"http://www.w3.org/2000/svg\" height=\"24px\"viewBox=\"0 0 24 24\"\n",
              "       width=\"24px\">\n",
              "    <path d=\"M0 0h24v24H0V0z\" fill=\"none\"/>\n",
              "    <path d=\"M18.56 5.44l.94 2.06.94-2.06 2.06-.94-2.06-.94-.94-2.06-.94 2.06-2.06.94zm-11 1L8.5 8.5l.94-2.06 2.06-.94-2.06-.94L8.5 2.5l-.94 2.06-2.06.94zm10 10l.94 2.06.94-2.06 2.06-.94-2.06-.94-.94-2.06-.94 2.06-2.06.94z\"/><path d=\"M17.41 7.96l-1.37-1.37c-.4-.4-.92-.59-1.43-.59-.52 0-1.04.2-1.43.59L10.3 9.45l-7.72 7.72c-.78.78-.78 2.05 0 2.83L4 21.41c.39.39.9.59 1.41.59.51 0 1.02-.2 1.41-.59l7.78-7.78 2.81-2.81c.8-.78.8-2.07 0-2.86zM5.41 20L4 18.59l7.72-7.72 1.47 1.35L5.41 20z\"/>\n",
              "  </svg>\n",
              "      </button>\n",
              "      \n",
              "  <style>\n",
              "    .colab-df-container {\n",
              "      display:flex;\n",
              "      flex-wrap:wrap;\n",
              "      gap: 12px;\n",
              "    }\n",
              "\n",
              "    .colab-df-convert {\n",
              "      background-color: #E8F0FE;\n",
              "      border: none;\n",
              "      border-radius: 50%;\n",
              "      cursor: pointer;\n",
              "      display: none;\n",
              "      fill: #1967D2;\n",
              "      height: 32px;\n",
              "      padding: 0 0 0 0;\n",
              "      width: 32px;\n",
              "    }\n",
              "\n",
              "    .colab-df-convert:hover {\n",
              "      background-color: #E2EBFA;\n",
              "      box-shadow: 0px 1px 2px rgba(60, 64, 67, 0.3), 0px 1px 3px 1px rgba(60, 64, 67, 0.15);\n",
              "      fill: #174EA6;\n",
              "    }\n",
              "\n",
              "    [theme=dark] .colab-df-convert {\n",
              "      background-color: #3B4455;\n",
              "      fill: #D2E3FC;\n",
              "    }\n",
              "\n",
              "    [theme=dark] .colab-df-convert:hover {\n",
              "      background-color: #434B5C;\n",
              "      box-shadow: 0px 1px 3px 1px rgba(0, 0, 0, 0.15);\n",
              "      filter: drop-shadow(0px 1px 2px rgba(0, 0, 0, 0.3));\n",
              "      fill: #FFFFFF;\n",
              "    }\n",
              "  </style>\n",
              "\n",
              "      <script>\n",
              "        const buttonEl =\n",
              "          document.querySelector('#df-ca52ae7f-1211-48f6-b2d9-ec80d3b3fc68 button.colab-df-convert');\n",
              "        buttonEl.style.display =\n",
              "          google.colab.kernel.accessAllowed ? 'block' : 'none';\n",
              "\n",
              "        async function convertToInteractive(key) {\n",
              "          const element = document.querySelector('#df-ca52ae7f-1211-48f6-b2d9-ec80d3b3fc68');\n",
              "          const dataTable =\n",
              "            await google.colab.kernel.invokeFunction('convertToInteractive',\n",
              "                                                     [key], {});\n",
              "          if (!dataTable) return;\n",
              "\n",
              "          const docLinkHtml = 'Like what you see? Visit the ' +\n",
              "            '<a target=\"_blank\" href=https://colab.research.google.com/notebooks/data_table.ipynb>data table notebook</a>'\n",
              "            + ' to learn more about interactive tables.';\n",
              "          element.innerHTML = '';\n",
              "          dataTable['output_type'] = 'display_data';\n",
              "          await google.colab.output.renderOutput(dataTable, element);\n",
              "          const docLink = document.createElement('div');\n",
              "          docLink.innerHTML = docLinkHtml;\n",
              "          element.appendChild(docLink);\n",
              "        }\n",
              "      </script>\n",
              "    </div>\n",
              "  </div>\n",
              "  "
            ]
          },
          "metadata": {},
          "execution_count": 6
        }
      ]
    },
    {
      "cell_type": "code",
      "source": [
        "occur = train.groupby(['label']).size()\n",
        "print(occur)"
      ],
      "metadata": {
        "colab": {
          "base_uri": "https://localhost:8080/"
        },
        "id": "24b3NM1skMwK",
        "outputId": "c1ea1297-53f6-4efa-be0a-5cf2023f8c6a"
      },
      "execution_count": 7,
      "outputs": [
        {
          "output_type": "stream",
          "name": "stdout",
          "text": [
            "label\n",
            "Pepper__bell___Bacterial_spot                  600\n",
            "Pepper__bell___healthy                         600\n",
            "Potato___Early_blight                          600\n",
            "Potato___Late_blight                           600\n",
            "Potato___healthy                               120\n",
            "Tomato_Bacterial_spot                          600\n",
            "Tomato_Early_blight                            600\n",
            "Tomato_Late_blight                             600\n",
            "Tomato_Leaf_Mold                               600\n",
            "Tomato_Septoria_leaf_spot                      600\n",
            "Tomato_Spider_mites_Two_spotted_spider_mite    600\n",
            "Tomato__Target_Spot                            600\n",
            "Tomato__Tomato_YellowLeaf__Curl_Virus          600\n",
            "Tomato__Tomato_mosaic_virus                    296\n",
            "Tomato_healthy                                 600\n",
            "dtype: int64\n"
          ]
        }
      ]
    },
    {
      "cell_type": "code",
      "source": [
        "import numpy as np\n",
        "import pandas as pd \n",
        "from keras.preprocessing.image import ImageDataGenerator, load_img\n",
        "from tensorflow.keras.utils import to_categorical\n",
        "from sklearn.model_selection import train_test_split\n",
        "import matplotlib.pyplot as plt\n",
        "import random\n",
        "import os"
      ],
      "metadata": {
        "id": "9fvmyhlMroNb"
      },
      "execution_count": 8,
      "outputs": []
    },
    {
      "cell_type": "code",
      "source": [
        "base_path = \"/content/data/new_dataset_participants/\"\n",
        "dataframe_filename = \"participants_dataset.csv\"\n",
        "df = pd.read_csv(base_path+dataframe_filename)\n",
        "\n",
        "train = df.dropna()\n",
        "test = df[df[\"label\"].isna()]\n",
        "\n",
        "print(f\"N data in train: {len(train)}\")\n",
        "print(f\"N data in test: {len(test)}\")\n",
        "train.head()"
      ],
      "metadata": {
        "colab": {
          "base_uri": "https://localhost:8080/",
          "height": 242
        },
        "id": "y43O_ucjsPJZ",
        "outputId": "17aa8b7e-c1e8-495a-da75-257d4636aceb"
      },
      "execution_count": 9,
      "outputs": [
        {
          "output_type": "stream",
          "name": "stdout",
          "text": [
            "N data in train: 8216\n",
            "N data in test: 8052\n"
          ]
        },
        {
          "output_type": "execute_result",
          "data": {
            "text/plain": [
              "   ID                                           filename           label\n",
              "0   0  files/e2991a66-412d-4841-8dc0-524e38338a82 Lea...  Tomato_healthy\n",
              "1   1  files/e9392a5e-2fac-48c5-a23d-df3aa3f61048 Lea...  Tomato_healthy\n",
              "2   2  files/87a77f4d-38bd-42dc-bdd3-5f2a1fa95ca7 Lea...  Tomato_healthy\n",
              "3   3  files/efe6c986-b85c-40f1-8cb5-345acbb36b71 057...  Tomato_healthy\n",
              "4   4  files/cdf10741-0ed4-4a27-a2e9-8970e4426730 035...  Tomato_healthy"
            ],
            "text/html": [
              "\n",
              "  <div id=\"df-67251376-96dc-4180-8c27-d3a90970610a\">\n",
              "    <div class=\"colab-df-container\">\n",
              "      <div>\n",
              "<style scoped>\n",
              "    .dataframe tbody tr th:only-of-type {\n",
              "        vertical-align: middle;\n",
              "    }\n",
              "\n",
              "    .dataframe tbody tr th {\n",
              "        vertical-align: top;\n",
              "    }\n",
              "\n",
              "    .dataframe thead th {\n",
              "        text-align: right;\n",
              "    }\n",
              "</style>\n",
              "<table border=\"1\" class=\"dataframe\">\n",
              "  <thead>\n",
              "    <tr style=\"text-align: right;\">\n",
              "      <th></th>\n",
              "      <th>ID</th>\n",
              "      <th>filename</th>\n",
              "      <th>label</th>\n",
              "    </tr>\n",
              "  </thead>\n",
              "  <tbody>\n",
              "    <tr>\n",
              "      <th>0</th>\n",
              "      <td>0</td>\n",
              "      <td>files/e2991a66-412d-4841-8dc0-524e38338a82 Lea...</td>\n",
              "      <td>Tomato_healthy</td>\n",
              "    </tr>\n",
              "    <tr>\n",
              "      <th>1</th>\n",
              "      <td>1</td>\n",
              "      <td>files/e9392a5e-2fac-48c5-a23d-df3aa3f61048 Lea...</td>\n",
              "      <td>Tomato_healthy</td>\n",
              "    </tr>\n",
              "    <tr>\n",
              "      <th>2</th>\n",
              "      <td>2</td>\n",
              "      <td>files/87a77f4d-38bd-42dc-bdd3-5f2a1fa95ca7 Lea...</td>\n",
              "      <td>Tomato_healthy</td>\n",
              "    </tr>\n",
              "    <tr>\n",
              "      <th>3</th>\n",
              "      <td>3</td>\n",
              "      <td>files/efe6c986-b85c-40f1-8cb5-345acbb36b71 057...</td>\n",
              "      <td>Tomato_healthy</td>\n",
              "    </tr>\n",
              "    <tr>\n",
              "      <th>4</th>\n",
              "      <td>4</td>\n",
              "      <td>files/cdf10741-0ed4-4a27-a2e9-8970e4426730 035...</td>\n",
              "      <td>Tomato_healthy</td>\n",
              "    </tr>\n",
              "  </tbody>\n",
              "</table>\n",
              "</div>\n",
              "      <button class=\"colab-df-convert\" onclick=\"convertToInteractive('df-67251376-96dc-4180-8c27-d3a90970610a')\"\n",
              "              title=\"Convert this dataframe to an interactive table.\"\n",
              "              style=\"display:none;\">\n",
              "        \n",
              "  <svg xmlns=\"http://www.w3.org/2000/svg\" height=\"24px\"viewBox=\"0 0 24 24\"\n",
              "       width=\"24px\">\n",
              "    <path d=\"M0 0h24v24H0V0z\" fill=\"none\"/>\n",
              "    <path d=\"M18.56 5.44l.94 2.06.94-2.06 2.06-.94-2.06-.94-.94-2.06-.94 2.06-2.06.94zm-11 1L8.5 8.5l.94-2.06 2.06-.94-2.06-.94L8.5 2.5l-.94 2.06-2.06.94zm10 10l.94 2.06.94-2.06 2.06-.94-2.06-.94-.94-2.06-.94 2.06-2.06.94z\"/><path d=\"M17.41 7.96l-1.37-1.37c-.4-.4-.92-.59-1.43-.59-.52 0-1.04.2-1.43.59L10.3 9.45l-7.72 7.72c-.78.78-.78 2.05 0 2.83L4 21.41c.39.39.9.59 1.41.59.51 0 1.02-.2 1.41-.59l7.78-7.78 2.81-2.81c.8-.78.8-2.07 0-2.86zM5.41 20L4 18.59l7.72-7.72 1.47 1.35L5.41 20z\"/>\n",
              "  </svg>\n",
              "      </button>\n",
              "      \n",
              "  <style>\n",
              "    .colab-df-container {\n",
              "      display:flex;\n",
              "      flex-wrap:wrap;\n",
              "      gap: 12px;\n",
              "    }\n",
              "\n",
              "    .colab-df-convert {\n",
              "      background-color: #E8F0FE;\n",
              "      border: none;\n",
              "      border-radius: 50%;\n",
              "      cursor: pointer;\n",
              "      display: none;\n",
              "      fill: #1967D2;\n",
              "      height: 32px;\n",
              "      padding: 0 0 0 0;\n",
              "      width: 32px;\n",
              "    }\n",
              "\n",
              "    .colab-df-convert:hover {\n",
              "      background-color: #E2EBFA;\n",
              "      box-shadow: 0px 1px 2px rgba(60, 64, 67, 0.3), 0px 1px 3px 1px rgba(60, 64, 67, 0.15);\n",
              "      fill: #174EA6;\n",
              "    }\n",
              "\n",
              "    [theme=dark] .colab-df-convert {\n",
              "      background-color: #3B4455;\n",
              "      fill: #D2E3FC;\n",
              "    }\n",
              "\n",
              "    [theme=dark] .colab-df-convert:hover {\n",
              "      background-color: #434B5C;\n",
              "      box-shadow: 0px 1px 3px 1px rgba(0, 0, 0, 0.15);\n",
              "      filter: drop-shadow(0px 1px 2px rgba(0, 0, 0, 0.3));\n",
              "      fill: #FFFFFF;\n",
              "    }\n",
              "  </style>\n",
              "\n",
              "      <script>\n",
              "        const buttonEl =\n",
              "          document.querySelector('#df-67251376-96dc-4180-8c27-d3a90970610a button.colab-df-convert');\n",
              "        buttonEl.style.display =\n",
              "          google.colab.kernel.accessAllowed ? 'block' : 'none';\n",
              "\n",
              "        async function convertToInteractive(key) {\n",
              "          const element = document.querySelector('#df-67251376-96dc-4180-8c27-d3a90970610a');\n",
              "          const dataTable =\n",
              "            await google.colab.kernel.invokeFunction('convertToInteractive',\n",
              "                                                     [key], {});\n",
              "          if (!dataTable) return;\n",
              "\n",
              "          const docLinkHtml = 'Like what you see? Visit the ' +\n",
              "            '<a target=\"_blank\" href=https://colab.research.google.com/notebooks/data_table.ipynb>data table notebook</a>'\n",
              "            + ' to learn more about interactive tables.';\n",
              "          element.innerHTML = '';\n",
              "          dataTable['output_type'] = 'display_data';\n",
              "          await google.colab.output.renderOutput(dataTable, element);\n",
              "          const docLink = document.createElement('div');\n",
              "          docLink.innerHTML = docLinkHtml;\n",
              "          element.appendChild(docLink);\n",
              "        }\n",
              "      </script>\n",
              "    </div>\n",
              "  </div>\n",
              "  "
            ]
          },
          "metadata": {},
          "execution_count": 9
        }
      ]
    },
    {
      "cell_type": "code",
      "source": [
        "i = 455\n",
        "\n",
        "sample = train.iloc[i].filename\n",
        "label = train.iloc[i].label\n",
        "sample_path = f\"{base_path}{sample}\"\n",
        "image = load_img(sample_path)\n",
        "plt.imshow(image)\n",
        "print(image.height)\n",
        "print(image.width)\n",
        "\n",
        "print(label)"
      ],
      "metadata": {
        "colab": {
          "base_uri": "https://localhost:8080/",
          "height": 322
        },
        "id": "c69smzDDro0j",
        "outputId": "34a52363-5365-404d-e5b1-cf1df818dc48"
      },
      "execution_count": 10,
      "outputs": [
        {
          "output_type": "stream",
          "name": "stdout",
          "text": [
            "256\n",
            "256\n",
            "Tomato_healthy\n"
          ]
        },
        {
          "output_type": "display_data",
          "data": {
            "text/plain": [
              "<Figure size 432x288 with 1 Axes>"
            ],
            "image/png": "[encoded data removed]"
          },
          "metadata": {
            "needs_background": "light"
          }
        }
      ]
    },
    {
      "cell_type": "markdown",
      "source": [
        "### Data generator"
      ],
      "metadata": {
        "id": "QEDEYsxnu0eM"
      }
    },
    {
      "cell_type": "code",
      "source": [
        "train, valid = train_test_split(train, test_size=0.18, random_state=0)\n",
        "\n",
        "train_datagen = ImageDataGenerator(\n",
        "    rotation_range=15,\n",
        "    rescale=1./255,\n",
        "    shear_range=0.1,\n",
        "    zoom_range=0.2,\n",
        "    horizontal_flip=True,\n",
        "    width_shift_range=0.1,\n",
        "    height_shift_range=0.1\n",
        ")\n",
        "\n",
        "train_generator=train_datagen.flow_from_dataframe(\n",
        "    dataframe=train,\n",
        "    directory=base_path,\n",
        "    x_col=\"filename\",\n",
        "    y_col=\"label\",\n",
        "    subset=\"training\",\n",
        "    batch_size=32,\n",
        "    seed=42,\n",
        "    shuffle=True,\n",
        "    class_mode=\"categorical\",\n",
        "    target_size=(256,256)\n",
        ")\n",
        "\n",
        "valid_generator=train_datagen.flow_from_dataframe(\n",
        "    dataframe=valid,\n",
        "    directory=base_path,\n",
        "    x_col=\"filename\",\n",
        "    y_col=\"label\",\n",
        "    subset=\"training\",\n",
        "    batch_size=32,\n",
        "    seed=42,\n",
        "    shuffle=True,\n",
        "    class_mode=\"categorical\",\n",
        "    target_size=(256,256)\n",
        ")\n",
        "\n",
        "STEP_SIZE_TRAIN=train_generator.n//train_generator.batch_size\n",
        "STEP_SIZE_VALID=valid_generator.n//valid_generator.batch_size"
      ],
      "metadata": {
        "colab": {
          "base_uri": "https://localhost:8080/"
        },
        "id": "aSurtg6Ivdcc",
        "outputId": "59f49928-fdda-4a3e-e747-7961c568d6d2"
      },
      "execution_count": 67,
      "outputs": [
        {
          "output_type": "stream",
          "name": "stdout",
          "text": [
            "Found 5524 validated image filenames belonging to 15 classes.\n",
            "Found 1213 validated image filenames belonging to 15 classes.\n"
          ]
        }
      ]
    },
    {
      "cell_type": "code",
      "source": [
        "data, label = train_generator.next()"
      ],
      "metadata": {
        "id": "UNnoMtJXywcT"
      },
      "execution_count": 9,
      "outputs": []
    },
    {
      "cell_type": "code",
      "source": [
        "occur = valid.groupby(['label']).size()\n",
        "# display occurrences of a particular column\n",
        "print(\"Validation\")\n",
        "display(occur)\n",
        "\n",
        "occur = train.groupby(['label']).size()\n",
        "# display occurrences of a particular column\n",
        "print(\"\\nTraining\")\n",
        "display(occur)"
      ],
      "metadata": {
        "colab": {
          "base_uri": "https://localhost:8080/",
          "height": 676
        },
        "id": "KuYTTi7iYIh7",
        "outputId": "c3136bb0-fbf4-462f-f669-bfe1a74c4133"
      },
      "execution_count": 12,
      "outputs": [
        {
          "output_type": "stream",
          "name": "stdout",
          "text": [
            "Validation\n"
          ]
        },
        {
          "output_type": "display_data",
          "data": {
            "text/plain": [
              "label\n",
              "Pepper__bell___Bacterial_spot                  117\n",
              "Pepper__bell___healthy                         113\n",
              "Potato___Early_blight                           98\n",
              "Potato___Late_blight                            96\n",
              "Potato___healthy                                17\n",
              "Tomato_Bacterial_spot                          115\n",
              "Tomato_Early_blight                            103\n",
              "Tomato_Late_blight                             104\n",
              "Tomato_Leaf_Mold                               113\n",
              "Tomato_Septoria_leaf_spot                      104\n",
              "Tomato_Spider_mites_Two_spotted_spider_mite     98\n",
              "Tomato__Target_Spot                            127\n",
              "Tomato__Tomato_YellowLeaf__Curl_Virus           90\n",
              "Tomato__Tomato_mosaic_virus                     54\n",
              "Tomato_healthy                                 130\n",
              "dtype: int64"
            ]
          },
          "metadata": {}
        },
        {
          "output_type": "stream",
          "name": "stdout",
          "text": [
            "\n",
            "Training\n"
          ]
        },
        {
          "output_type": "display_data",
          "data": {
            "text/plain": [
              "label\n",
              "Pepper__bell___Bacterial_spot                  483\n",
              "Pepper__bell___healthy                         487\n",
              "Potato___Early_blight                          502\n",
              "Potato___Late_blight                           504\n",
              "Potato___healthy                               103\n",
              "Tomato_Bacterial_spot                          485\n",
              "Tomato_Early_blight                            497\n",
              "Tomato_Late_blight                             496\n",
              "Tomato_Leaf_Mold                               487\n",
              "Tomato_Septoria_leaf_spot                      496\n",
              "Tomato_Spider_mites_Two_spotted_spider_mite    502\n",
              "Tomato__Target_Spot                            473\n",
              "Tomato__Tomato_YellowLeaf__Curl_Virus          510\n",
              "Tomato__Tomato_mosaic_virus                    242\n",
              "Tomato_healthy                                 470\n",
              "dtype: int64"
            ]
          },
          "metadata": {}
        }
      ]
    },
    {
      "cell_type": "markdown",
      "source": [
        "## Model\n"
      ],
      "metadata": {
        "id": "EvJLo7dX12yh"
      }
    },
    {
      "cell_type": "code",
      "source": [
        "# CNN import \n",
        "import tensorflow as tf\n",
        "from tensorflow import keras\n",
        "from keras.preprocessing.image import ImageDataGenerator, img_to_array\n",
        "from tensorflow.keras.models import Sequential\n",
        "from tensorflow.keras import datasets, layers, models, Model\n",
        "from tensorflow.keras.utils import to_categorical\n",
        "from tensorflow.keras import regularizers\n",
        "from tensorflow.keras.callbacks import LearningRateScheduler"
      ],
      "metadata": {
        "id": "88cvst5U2H-F"
      },
      "execution_count": 13,
      "outputs": []
    },
    {
      "cell_type": "code",
      "source": [
        "# Model Architecture \n",
        "def create_model(init_conv_size, conv_size, dense_size):\n",
        "    model = models.Sequential()\n",
        "    model.add(layers.Conv2D(init_conv_size, (3, 3), strides=2, input_shape=(256, 256, 3)))\n",
        "    model.add(layers.BatchNormalization())\n",
        "    model.add(layers.Activation('relu'))\n",
        "\n",
        "    model.add(layers.MaxPooling2D((2, 2), strides=2))\n",
        "    model.add(layers.Conv2D(conv_size, (3, 3), strides=1, padding='same'))\n",
        "    model.add(layers.BatchNormalization())\n",
        "    model.add(layers.Activation('relu'))\n",
        "    model.add(layers.Conv2D(conv_size, (3, 3), strides=1, padding='same'))\n",
        "    model.add(layers.BatchNormalization())\n",
        "    model.add(layers.Activation('relu'))\n",
        "\n",
        "    model.add(layers.MaxPooling2D((2, 2), strides=2))\n",
        "    model.add(layers.Conv2D(conv_size*2, (3, 3), strides=1, padding='same'))\n",
        "    model.add(layers.BatchNormalization())\n",
        "    model.add(layers.Activation('relu'))\n",
        "    model.add(layers.Conv2D(conv_size*2, (3, 3), strides=1, padding='same'))\n",
        "    model.add(layers.BatchNormalization())\n",
        "    model.add(layers.Activation('relu'))\n",
        "\n",
        "    model.add(layers.MaxPooling2D((2, 2), strides=2))\n",
        "    model.add(layers.Conv2D(conv_size*2, (3, 3), strides=1, padding='same'))\n",
        "    model.add(layers.BatchNormalization())\n",
        "    model.add(layers.Activation('relu'))\n",
        "    model.add(layers.Conv2D(conv_size*2, (3, 3), strides=1, padding='same'))\n",
        "    model.add(layers.BatchNormalization())\n",
        "    model.add(layers.Activation('relu'))\n",
        "\n",
        "    model.add(layers.MaxPooling2D((2, 2), strides=2))\n",
        "    model.add(layers.Conv2D(conv_size*2, (3, 3), strides=1, padding='same'))\n",
        "    model.add(layers.BatchNormalization())\n",
        "    model.add(layers.Activation('relu'))\n",
        "    model.add(layers.MaxPooling2D((2, 2), strides=2))\n",
        "    \n",
        "    model.add(layers.Flatten())\n",
        "    model.add(layers.Dense(dense_size, activation='relu'))\n",
        "    model.add(layers.BatchNormalization())\n",
        "    model.add(layers.Dropout(0.5))\n",
        "    model.add(layers.Dense(dense_size/2, activation='relu'))\n",
        "    model.add(layers.BatchNormalization())\n",
        "    model.add(layers.Dropout(0.65))\n",
        "    model.add(layers.Dense(15, activation='softmax'))\n",
        "    return model"
      ],
      "metadata": {
        "id": "scuy1D_414TN"
      },
      "execution_count": 14,
      "outputs": []
    },
    {
      "cell_type": "code",
      "source": [
        "import math"
      ],
      "metadata": {
        "id": "-3-M1sx82y1L"
      },
      "execution_count": 15,
      "outputs": []
    },
    {
      "cell_type": "code",
      "source": [
        "def lr_decay(epoch, lr):\n",
        "  \"\"\"\n",
        "  Return a reduced learning rate\n",
        "  \"\"\"\n",
        "  k = 0.02\n",
        "  return init_lr * math.exp(-k*epoch)"
      ],
      "metadata": {
        "id": "AoMNO92Y2G6E"
      },
      "execution_count": 16,
      "outputs": []
    },
    {
      "cell_type": "code",
      "source": [
        "# Random Seed\n",
        "seed = 100\n",
        "fix_seed_random(seed)\n",
        "\n",
        "# Model Name\n",
        "model_name = 'model_1'"
      ],
      "metadata": {
        "id": "tz3paEaX2n7_"
      },
      "execution_count": 17,
      "outputs": []
    },
    {
      "cell_type": "code",
      "source": [
        "# Model creation\n",
        "init_conv_sizes = 64\n",
        "conv_sizes = 128\n",
        "dense_sizes = 1024\n",
        "f1_scores = []\n",
        "\n",
        "model = create_model(init_conv_sizes, conv_sizes, dense_sizes)\n",
        "model.compile(optimizer='adam',\n",
        "              loss=tf.keras.losses.categorical_crossentropy,\n",
        "              metrics=['accuracy'])\n",
        "\n",
        "model.summary()"
      ],
      "metadata": {
        "colab": {
          "base_uri": "https://localhost:8080/"
        },
        "id": "Q7ahw4nU27aS",
        "outputId": "9c0414c6-d8de-4f6a-df8b-2172bed975b9"
      },
      "execution_count": 18,
      "outputs": [
        {
          "output_type": "stream",
          "name": "stdout",
          "text": [
            "Model: \"sequential\"\n",
            "_________________________________________________________________\n",
            " Layer (type)                Output Shape              Param #   \n",
            "=================================================================\n",
            " conv2d (Conv2D)             (None, 127, 127, 64)      1792      \n",
            "                                                                 \n",
            " batch_normalization (BatchN  (None, 127, 127, 64)     256       \n",
            " ormalization)                                                   \n",
            "                                                                 \n",
            " activation (Activation)     (None, 127, 127, 64)      0         \n",
            "                                                                 \n",
            " max_pooling2d (MaxPooling2D  (None, 63, 63, 64)       0         \n",
            " )                                                               \n",
            "                                                                 \n",
            " conv2d_1 (Conv2D)           (None, 63, 63, 128)       73856     \n",
            "                                                                 \n",
            " batch_normalization_1 (Batc  (None, 63, 63, 128)      512       \n",
            " hNormalization)                                                 \n",
            "                                                                 \n",
            " activation_1 (Activation)   (None, 63, 63, 128)       0         \n",
            "                                                                 \n",
            " conv2d_2 (Conv2D)           (None, 63, 63, 128)       147584    \n",
            "                                                                 \n",
            " batch_normalization_2 (Batc  (None, 63, 63, 128)      512       \n",
            " hNormalization)                                                 \n",
            "                                                                 \n",
            " activation_2 (Activation)   (None, 63, 63, 128)       0         \n",
            "                                                                 \n",
            " max_pooling2d_1 (MaxPooling  (None, 31, 31, 128)      0         \n",
            " 2D)                                                             \n",
            "                                                                 \n",
            " conv2d_3 (Conv2D)           (None, 31, 31, 256)       295168    \n",
            "                                                                 \n",
            " batch_normalization_3 (Batc  (None, 31, 31, 256)      1024      \n",
            " hNormalization)                                                 \n",
            "                                                                 \n",
            " activation_3 (Activation)   (None, 31, 31, 256)       0         \n",
            "                                                                 \n",
            " conv2d_4 (Conv2D)           (None, 31, 31, 256)       590080    \n",
            "                                                                 \n",
            " batch_normalization_4 (Batc  (None, 31, 31, 256)      1024      \n",
            " hNormalization)                                                 \n",
            "                                                                 \n",
            " activation_4 (Activation)   (None, 31, 31, 256)       0         \n",
            "                                                                 \n",
            " max_pooling2d_2 (MaxPooling  (None, 15, 15, 256)      0         \n",
            " 2D)                                                             \n",
            "                                                                 \n",
            " conv2d_5 (Conv2D)           (None, 15, 15, 256)       590080    \n",
            "                                                                 \n",
            " batch_normalization_5 (Batc  (None, 15, 15, 256)      1024      \n",
            " hNormalization)                                                 \n",
            "                                                                 \n",
            " activation_5 (Activation)   (None, 15, 15, 256)       0         \n",
            "                                                                 \n",
            " conv2d_6 (Conv2D)           (None, 15, 15, 256)       590080    \n",
            "                                                                 \n",
            " batch_normalization_6 (Batc  (None, 15, 15, 256)      1024      \n",
            " hNormalization)                                                 \n",
            "                                                                 \n",
            " activation_6 (Activation)   (None, 15, 15, 256)       0         \n",
            "                                                                 \n",
            " max_pooling2d_3 (MaxPooling  (None, 7, 7, 256)        0         \n",
            " 2D)                                                             \n",
            "                                                                 \n",
            " conv2d_7 (Conv2D)           (None, 7, 7, 256)         590080    \n",
            "                                                                 \n",
            " batch_normalization_7 (Batc  (None, 7, 7, 256)        1024      \n",
            " hNormalization)                                                 \n",
            "                                                                 \n",
            " activation_7 (Activation)   (None, 7, 7, 256)         0         \n",
            "                                                                 \n",
            " max_pooling2d_4 (MaxPooling  (None, 3, 3, 256)        0         \n",
            " 2D)                                                             \n",
            "                                                                 \n",
            " flatten (Flatten)           (None, 2304)              0         \n",
            "                                                                 \n",
            " dense (Dense)               (None, 1024)              2360320   \n",
            "                                                                 \n",
            " batch_normalization_8 (Batc  (None, 1024)             4096      \n",
            " hNormalization)                                                 \n",
            "                                                                 \n",
            " dropout (Dropout)           (None, 1024)              0         \n",
            "                                                                 \n",
            " dense_1 (Dense)             (None, 512)               524800    \n",
            "                                                                 \n",
            " batch_normalization_9 (Batc  (None, 512)              2048      \n",
            " hNormalization)                                                 \n",
            "                                                                 \n",
            " dropout_1 (Dropout)         (None, 512)               0         \n",
            "                                                                 \n",
            " dense_2 (Dense)             (None, 15)                7695      \n",
            "                                                                 \n",
            "=================================================================\n",
            "Total params: 5,784,079\n",
            "Trainable params: 5,777,807\n",
            "Non-trainable params: 6,272\n",
            "_________________________________________________________________\n"
          ]
        }
      ]
    },
    {
      "cell_type": "code",
      "source": [
        "# Random Seed\n",
        "fix_seed_random(seed)\n",
        "\n",
        "# Learning rate\n",
        "init_lr = 0.001\n",
        "# init_lr = 4.3171e-06\n",
        "\n",
        "model.fit(train_generator, steps_per_epoch=STEP_SIZE_TRAIN, epochs=55, validation_data=valid_generator, callbacks=[LearningRateScheduler(lr_decay, verbose=1)])"
      ],
      "metadata": {
        "colab": {
          "base_uri": "https://localhost:8080/",
          "height": 694
        },
        "id": "LGNnEAFp2_Pv",
        "outputId": "3c57fe2c-f671-4260-dcde-ad8371612b9e"
      },
      "execution_count": 69,
      "outputs": [
        {
          "output_type": "stream",
          "name": "stdout",
          "text": [
            "\n",
            "Epoch 1: LearningRateScheduler setting learning rate to 4.3171e-06.\n",
            "Epoch 1/4\n",
            "172/172 [==============================] - 96s 548ms/step - loss: 0.0980 - accuracy: 0.9683 - val_loss: 0.0293 - val_accuracy: 0.9909 - lr: 4.3171e-06\n",
            "\n",
            "Epoch 2: LearningRateScheduler setting learning rate to 4.231615692532593e-06.\n",
            "Epoch 2/4\n",
            "172/172 [==============================] - 92s 534ms/step - loss: 0.0897 - accuracy: 0.9718 - val_loss: 0.0286 - val_accuracy: 0.9926 - lr: 4.2316e-06\n",
            "\n",
            "Epoch 3: LearningRateScheduler setting learning rate to 4.147824087764494e-06.\n",
            "Epoch 3/4\n",
            "172/172 [==============================] - 90s 523ms/step - loss: 0.1068 - accuracy: 0.9638 - val_loss: 0.0221 - val_accuracy: 0.9942 - lr: 4.1478e-06\n",
            "\n",
            "Epoch 4: LearningRateScheduler setting learning rate to 4.0656916679365595e-06.\n",
            "Epoch 4/4\n",
            " 50/172 [=======>......................] - ETA: 52s - loss: 0.1033 - accuracy: 0.9625"
          ]
        },
        {
          "output_type": "error",
          "ename": "KeyboardInterrupt",
          "evalue": "ignored",
          "traceback": [
            "\u001b[0;31m---------------------------------------------------------------------------\u001b[0m",
            "\u001b[0;31mKeyboardInterrupt\u001b[0m                         Traceback (most recent call last)",
            "\u001b[0;32m<ipython-input-69-fdd1c3cb26a4>\u001b[0m in \u001b[0;36m<module>\u001b[0;34m\u001b[0m\n\u001b[1;32m      6\u001b[0m \u001b[0minit_lr\u001b[0m \u001b[0;34m=\u001b[0m \u001b[0;36m4.3171e-06\u001b[0m\u001b[0;34m\u001b[0m\u001b[0;34m\u001b[0m\u001b[0m\n\u001b[1;32m      7\u001b[0m \u001b[0;34m\u001b[0m\u001b[0m\n\u001b[0;32m----> 8\u001b[0;31m \u001b[0mmodel\u001b[0m\u001b[0;34m.\u001b[0m\u001b[0mfit\u001b[0m\u001b[0;34m(\u001b[0m\u001b[0mtrain_generator\u001b[0m\u001b[0;34m,\u001b[0m \u001b[0msteps_per_epoch\u001b[0m\u001b[0;34m=\u001b[0m\u001b[0mSTEP_SIZE_TRAIN\u001b[0m\u001b[0;34m,\u001b[0m \u001b[0mepochs\u001b[0m\u001b[0;34m=\u001b[0m\u001b[0;36m4\u001b[0m\u001b[0;34m,\u001b[0m \u001b[0mvalidation_data\u001b[0m\u001b[0;34m=\u001b[0m\u001b[0mvalid_generator\u001b[0m\u001b[0;34m,\u001b[0m \u001b[0mcallbacks\u001b[0m\u001b[0;34m=\u001b[0m\u001b[0;34m[\u001b[0m\u001b[0mLearningRateScheduler\u001b[0m\u001b[0;34m(\u001b[0m\u001b[0mlr_decay\u001b[0m\u001b[0;34m,\u001b[0m \u001b[0mverbose\u001b[0m\u001b[0;34m=\u001b[0m\u001b[0;36m1\u001b[0m\u001b[0;34m)\u001b[0m\u001b[0;34m]\u001b[0m\u001b[0;34m)\u001b[0m\u001b[0;34m\u001b[0m\u001b[0;34m\u001b[0m\u001b[0m\n\u001b[0m",
            "\u001b[0;32m/usr/local/lib/python3.7/dist-packages/keras/utils/traceback_utils.py\u001b[0m in \u001b[0;36merror_handler\u001b[0;34m(*args, **kwargs)\u001b[0m\n\u001b[1;32m     62\u001b[0m     \u001b[0mfiltered_tb\u001b[0m \u001b[0;34m=\u001b[0m \u001b[0;32mNone\u001b[0m\u001b[0;34m\u001b[0m\u001b[0;34m\u001b[0m\u001b[0m\n\u001b[1;32m     63\u001b[0m     \u001b[0;32mtry\u001b[0m\u001b[0;34m:\u001b[0m\u001b[0;34m\u001b[0m\u001b[0;34m\u001b[0m\u001b[0m\n\u001b[0;32m---> 64\u001b[0;31m       \u001b[0;32mreturn\u001b[0m \u001b[0mfn\u001b[0m\u001b[0;34m(\u001b[0m\u001b[0;34m*\u001b[0m\u001b[0margs\u001b[0m\u001b[0;34m,\u001b[0m \u001b[0;34m**\u001b[0m\u001b[0mkwargs\u001b[0m\u001b[0;34m)\u001b[0m\u001b[0;34m\u001b[0m\u001b[0;34m\u001b[0m\u001b[0m\n\u001b[0m\u001b[1;32m     65\u001b[0m     \u001b[0;32mexcept\u001b[0m \u001b[0mException\u001b[0m \u001b[0;32mas\u001b[0m \u001b[0me\u001b[0m\u001b[0;34m:\u001b[0m  \u001b[0;31m# pylint: disable=broad-except\u001b[0m\u001b[0;34m\u001b[0m\u001b[0;34m\u001b[0m\u001b[0m\n\u001b[1;32m     66\u001b[0m       \u001b[0mfiltered_tb\u001b[0m \u001b[0;34m=\u001b[0m \u001b[0m_process_traceback_frames\u001b[0m\u001b[0;34m(\u001b[0m\u001b[0me\u001b[0m\u001b[0;34m.\u001b[0m\u001b[0m__traceback__\u001b[0m\u001b[0;34m)\u001b[0m\u001b[0;34m\u001b[0m\u001b[0;34m\u001b[0m\u001b[0m\n",
            "\u001b[0;32m/usr/local/lib/python3.7/dist-packages/keras/engine/training.py\u001b[0m in \u001b[0;36mfit\u001b[0;34m(self, x, y, batch_size, epochs, verbose, callbacks, validation_split, validation_data, shuffle, class_weight, sample_weight, initial_epoch, steps_per_epoch, validation_steps, validation_batch_size, validation_freq, max_queue_size, workers, use_multiprocessing)\u001b[0m\n\u001b[1;32m   1382\u001b[0m                 _r=1):\n\u001b[1;32m   1383\u001b[0m               \u001b[0mcallbacks\u001b[0m\u001b[0;34m.\u001b[0m\u001b[0mon_train_batch_begin\u001b[0m\u001b[0;34m(\u001b[0m\u001b[0mstep\u001b[0m\u001b[0;34m)\u001b[0m\u001b[0;34m\u001b[0m\u001b[0;34m\u001b[0m\u001b[0m\n\u001b[0;32m-> 1384\u001b[0;31m               \u001b[0mtmp_logs\u001b[0m \u001b[0;34m=\u001b[0m \u001b[0mself\u001b[0m\u001b[0;34m.\u001b[0m\u001b[0mtrain_function\u001b[0m\u001b[0;34m(\u001b[0m\u001b[0miterator\u001b[0m\u001b[0;34m)\u001b[0m\u001b[0;34m\u001b[0m\u001b[0;34m\u001b[0m\u001b[0m\n\u001b[0m\u001b[1;32m   1385\u001b[0m               \u001b[0;32mif\u001b[0m \u001b[0mdata_handler\u001b[0m\u001b[0;34m.\u001b[0m\u001b[0mshould_sync\u001b[0m\u001b[0;34m:\u001b[0m\u001b[0;34m\u001b[0m\u001b[0;34m\u001b[0m\u001b[0m\n\u001b[1;32m   1386\u001b[0m                 \u001b[0mcontext\u001b[0m\u001b[0;34m.\u001b[0m\u001b[0masync_wait\u001b[0m\u001b[0;34m(\u001b[0m\u001b[0;34m)\u001b[0m\u001b[0;34m\u001b[0m\u001b[0;34m\u001b[0m\u001b[0m\n",
            "\u001b[0;32m/usr/local/lib/python3.7/dist-packages/tensorflow/python/util/traceback_utils.py\u001b[0m in \u001b[0;36merror_handler\u001b[0;34m(*args, **kwargs)\u001b[0m\n\u001b[1;32m    148\u001b[0m     \u001b[0mfiltered_tb\u001b[0m \u001b[0;34m=\u001b[0m \u001b[0;32mNone\u001b[0m\u001b[0;34m\u001b[0m\u001b[0;34m\u001b[0m\u001b[0m\n\u001b[1;32m    149\u001b[0m     \u001b[0;32mtry\u001b[0m\u001b[0;34m:\u001b[0m\u001b[0;34m\u001b[0m\u001b[0;34m\u001b[0m\u001b[0m\n\u001b[0;32m--> 150\u001b[0;31m       \u001b[0;32mreturn\u001b[0m \u001b[0mfn\u001b[0m\u001b[0;34m(\u001b[0m\u001b[0;34m*\u001b[0m\u001b[0margs\u001b[0m\u001b[0;34m,\u001b[0m \u001b[0;34m**\u001b[0m\u001b[0mkwargs\u001b[0m\u001b[0;34m)\u001b[0m\u001b[0;34m\u001b[0m\u001b[0;34m\u001b[0m\u001b[0m\n\u001b[0m\u001b[1;32m    151\u001b[0m     \u001b[0;32mexcept\u001b[0m \u001b[0mException\u001b[0m \u001b[0;32mas\u001b[0m \u001b[0me\u001b[0m\u001b[0;34m:\u001b[0m\u001b[0;34m\u001b[0m\u001b[0;34m\u001b[0m\u001b[0m\n\u001b[1;32m    152\u001b[0m       \u001b[0mfiltered_tb\u001b[0m \u001b[0;34m=\u001b[0m \u001b[0m_process_traceback_frames\u001b[0m\u001b[0;34m(\u001b[0m\u001b[0me\u001b[0m\u001b[0;34m.\u001b[0m\u001b[0m__traceback__\u001b[0m\u001b[0;34m)\u001b[0m\u001b[0;34m\u001b[0m\u001b[0;34m\u001b[0m\u001b[0m\n",
            "\u001b[0;32m/usr/local/lib/python3.7/dist-packages/tensorflow/python/eager/def_function.py\u001b[0m in \u001b[0;36m__call__\u001b[0;34m(self, *args, **kwds)\u001b[0m\n\u001b[1;32m    913\u001b[0m \u001b[0;34m\u001b[0m\u001b[0m\n\u001b[1;32m    914\u001b[0m       \u001b[0;32mwith\u001b[0m \u001b[0mOptionalXlaContext\u001b[0m\u001b[0;34m(\u001b[0m\u001b[0mself\u001b[0m\u001b[0;34m.\u001b[0m\u001b[0m_jit_compile\u001b[0m\u001b[0;34m)\u001b[0m\u001b[0;34m:\u001b[0m\u001b[0;34m\u001b[0m\u001b[0;34m\u001b[0m\u001b[0m\n\u001b[0;32m--> 915\u001b[0;31m         \u001b[0mresult\u001b[0m \u001b[0;34m=\u001b[0m \u001b[0mself\u001b[0m\u001b[0;34m.\u001b[0m\u001b[0m_call\u001b[0m\u001b[0;34m(\u001b[0m\u001b[0;34m*\u001b[0m\u001b[0margs\u001b[0m\u001b[0;34m,\u001b[0m \u001b[0;34m**\u001b[0m\u001b[0mkwds\u001b[0m\u001b[0;34m)\u001b[0m\u001b[0;34m\u001b[0m\u001b[0;34m\u001b[0m\u001b[0m\n\u001b[0m\u001b[1;32m    916\u001b[0m \u001b[0;34m\u001b[0m\u001b[0m\n\u001b[1;32m    917\u001b[0m       \u001b[0mnew_tracing_count\u001b[0m \u001b[0;34m=\u001b[0m \u001b[0mself\u001b[0m\u001b[0;34m.\u001b[0m\u001b[0mexperimental_get_tracing_count\u001b[0m\u001b[0;34m(\u001b[0m\u001b[0;34m)\u001b[0m\u001b[0;34m\u001b[0m\u001b[0;34m\u001b[0m\u001b[0m\n",
            "\u001b[0;32m/usr/local/lib/python3.7/dist-packages/tensorflow/python/eager/def_function.py\u001b[0m in \u001b[0;36m_call\u001b[0;34m(self, *args, **kwds)\u001b[0m\n\u001b[1;32m    945\u001b[0m       \u001b[0;31m# In this case we have created variables on the first call, so we run the\u001b[0m\u001b[0;34m\u001b[0m\u001b[0;34m\u001b[0m\u001b[0;34m\u001b[0m\u001b[0m\n\u001b[1;32m    946\u001b[0m       \u001b[0;31m# defunned version which is guaranteed to never create variables.\u001b[0m\u001b[0;34m\u001b[0m\u001b[0;34m\u001b[0m\u001b[0;34m\u001b[0m\u001b[0m\n\u001b[0;32m--> 947\u001b[0;31m       \u001b[0;32mreturn\u001b[0m \u001b[0mself\u001b[0m\u001b[0;34m.\u001b[0m\u001b[0m_stateless_fn\u001b[0m\u001b[0;34m(\u001b[0m\u001b[0;34m*\u001b[0m\u001b[0margs\u001b[0m\u001b[0;34m,\u001b[0m \u001b[0;34m**\u001b[0m\u001b[0mkwds\u001b[0m\u001b[0;34m)\u001b[0m  \u001b[0;31m# pylint: disable=not-callable\u001b[0m\u001b[0;34m\u001b[0m\u001b[0;34m\u001b[0m\u001b[0m\n\u001b[0m\u001b[1;32m    948\u001b[0m     \u001b[0;32melif\u001b[0m \u001b[0mself\u001b[0m\u001b[0;34m.\u001b[0m\u001b[0m_stateful_fn\u001b[0m \u001b[0;32mis\u001b[0m \u001b[0;32mnot\u001b[0m \u001b[0;32mNone\u001b[0m\u001b[0;34m:\u001b[0m\u001b[0;34m\u001b[0m\u001b[0;34m\u001b[0m\u001b[0m\n\u001b[1;32m    949\u001b[0m       \u001b[0;31m# Release the lock early so that multiple threads can perform the call\u001b[0m\u001b[0;34m\u001b[0m\u001b[0;34m\u001b[0m\u001b[0;34m\u001b[0m\u001b[0m\n",
            "\u001b[0;32m/usr/local/lib/python3.7/dist-packages/tensorflow/python/eager/function.py\u001b[0m in \u001b[0;36m__call__\u001b[0;34m(self, *args, **kwargs)\u001b[0m\n\u001b[1;32m   2955\u001b[0m        filtered_flat_args) = self._maybe_define_function(args, kwargs)\n\u001b[1;32m   2956\u001b[0m     return graph_function._call_flat(\n\u001b[0;32m-> 2957\u001b[0;31m         filtered_flat_args, captured_inputs=graph_function.captured_inputs)  # pylint: disable=protected-access\n\u001b[0m\u001b[1;32m   2958\u001b[0m \u001b[0;34m\u001b[0m\u001b[0m\n\u001b[1;32m   2959\u001b[0m   \u001b[0;34m@\u001b[0m\u001b[0mproperty\u001b[0m\u001b[0;34m\u001b[0m\u001b[0;34m\u001b[0m\u001b[0m\n",
            "\u001b[0;32m/usr/local/lib/python3.7/dist-packages/tensorflow/python/eager/function.py\u001b[0m in \u001b[0;36m_call_flat\u001b[0;34m(self, args, captured_inputs, cancellation_manager)\u001b[0m\n\u001b[1;32m   1852\u001b[0m       \u001b[0;31m# No tape is watching; skip to running the function.\u001b[0m\u001b[0;34m\u001b[0m\u001b[0;34m\u001b[0m\u001b[0;34m\u001b[0m\u001b[0m\n\u001b[1;32m   1853\u001b[0m       return self._build_call_outputs(self._inference_function.call(\n\u001b[0;32m-> 1854\u001b[0;31m           ctx, args, cancellation_manager=cancellation_manager))\n\u001b[0m\u001b[1;32m   1855\u001b[0m     forward_backward = self._select_forward_and_backward_functions(\n\u001b[1;32m   1856\u001b[0m         \u001b[0margs\u001b[0m\u001b[0;34m,\u001b[0m\u001b[0;34m\u001b[0m\u001b[0;34m\u001b[0m\u001b[0m\n",
            "\u001b[0;32m/usr/local/lib/python3.7/dist-packages/tensorflow/python/eager/function.py\u001b[0m in \u001b[0;36mcall\u001b[0;34m(self, ctx, args, cancellation_manager)\u001b[0m\n\u001b[1;32m    502\u001b[0m               \u001b[0minputs\u001b[0m\u001b[0;34m=\u001b[0m\u001b[0margs\u001b[0m\u001b[0;34m,\u001b[0m\u001b[0;34m\u001b[0m\u001b[0;34m\u001b[0m\u001b[0m\n\u001b[1;32m    503\u001b[0m               \u001b[0mattrs\u001b[0m\u001b[0;34m=\u001b[0m\u001b[0mattrs\u001b[0m\u001b[0;34m,\u001b[0m\u001b[0;34m\u001b[0m\u001b[0;34m\u001b[0m\u001b[0m\n\u001b[0;32m--> 504\u001b[0;31m               ctx=ctx)\n\u001b[0m\u001b[1;32m    505\u001b[0m         \u001b[0;32melse\u001b[0m\u001b[0;34m:\u001b[0m\u001b[0;34m\u001b[0m\u001b[0;34m\u001b[0m\u001b[0m\n\u001b[1;32m    506\u001b[0m           outputs = execute.execute_with_cancellation(\n",
            "\u001b[0;32m/usr/local/lib/python3.7/dist-packages/tensorflow/python/eager/execute.py\u001b[0m in \u001b[0;36mquick_execute\u001b[0;34m(op_name, num_outputs, inputs, attrs, ctx, name)\u001b[0m\n\u001b[1;32m     53\u001b[0m     \u001b[0mctx\u001b[0m\u001b[0;34m.\u001b[0m\u001b[0mensure_initialized\u001b[0m\u001b[0;34m(\u001b[0m\u001b[0;34m)\u001b[0m\u001b[0;34m\u001b[0m\u001b[0;34m\u001b[0m\u001b[0m\n\u001b[1;32m     54\u001b[0m     tensors = pywrap_tfe.TFE_Py_Execute(ctx._handle, device_name, op_name,\n\u001b[0;32m---> 55\u001b[0;31m                                         inputs, attrs, num_outputs)\n\u001b[0m\u001b[1;32m     56\u001b[0m   \u001b[0;32mexcept\u001b[0m \u001b[0mcore\u001b[0m\u001b[0;34m.\u001b[0m\u001b[0m_NotOkStatusException\u001b[0m \u001b[0;32mas\u001b[0m \u001b[0me\u001b[0m\u001b[0;34m:\u001b[0m\u001b[0;34m\u001b[0m\u001b[0;34m\u001b[0m\u001b[0m\n\u001b[1;32m     57\u001b[0m     \u001b[0;32mif\u001b[0m \u001b[0mname\u001b[0m \u001b[0;32mis\u001b[0m \u001b[0;32mnot\u001b[0m \u001b[0;32mNone\u001b[0m\u001b[0;34m:\u001b[0m\u001b[0;34m\u001b[0m\u001b[0;34m\u001b[0m\u001b[0m\n",
            "\u001b[0;31mKeyboardInterrupt\u001b[0m: "
          ]
        }
      ]
    },
    {
      "cell_type": "markdown",
      "source": [
        "### Save model"
      ],
      "metadata": {
        "id": "7IsSHH-REG6x"
      }
    },
    {
      "cell_type": "code",
      "source": [
        "# Save model\n",
        "from datetime import datetime\n",
        "model_path_pre_valid = f'/content/drive/MyDrive/saved_{model_name}/model_without_validation-epoche-49'\n"
      ],
      "metadata": {
        "id": "dQXzNps0EAkR"
      },
      "execution_count": 51,
      "outputs": []
    },
    {
      "cell_type": "code",
      "source": [
        "model.save(model_path_pre_valid)"
      ],
      "metadata": {
        "id": "eHJpmYgqAMFj"
      },
      "execution_count": 52,
      "outputs": []
    },
    {
      "cell_type": "markdown",
      "source": [
        "### Import model"
      ],
      "metadata": {
        "id": "AEjZ2L9nKtkE"
      }
    },
    {
      "cell_type": "code",
      "source": [
        "model = tf.keras.models.load_model(model_path_pre_valid)"
      ],
      "metadata": {
        "id": "o6CyI-RUKwCj"
      },
      "execution_count": 68,
      "outputs": []
    },
    {
      "cell_type": "markdown",
      "source": [
        "### Add validation data"
      ],
      "metadata": {
        "id": "sZ7Sb2w4EcWh"
      }
    },
    {
      "cell_type": "code",
      "source": [
        "# ~~~~~~~~~~ TRAIN WITH VALIDATION GENERATOR ~~~~~~~~~~\n",
        "fix_seed_random(seed)\n",
        "init_lr = 0.00005\n",
        "epochs_valid = 2\n",
        "model.fit(valid_generator, steps_per_epoch = len(valid) // 32, epochs=epochs_valid, validation_data=train_generator, callbacks=[LearningRateScheduler(lr_decay, verbose=1)])\n",
        "\n",
        "model.save(f'saved_{model_name}/model_generator_validation')"
      ],
      "metadata": {
        "colab": {
          "base_uri": "https://localhost:8080/"
        },
        "id": "aXdOY0Pq48pB",
        "outputId": "4d33ed73-4700-492c-c3ff-9defcfde8e95"
      },
      "execution_count": 70,
      "outputs": [
        {
          "output_type": "stream",
          "name": "stdout",
          "text": [
            "\n",
            "Epoch 1: LearningRateScheduler setting learning rate to 5e-05.\n",
            "Epoch 1/2\n",
            "37/37 [==============================] - 33s 895ms/step - loss: 0.0910 - accuracy: 0.9763 - val_loss: 0.0351 - val_accuracy: 0.9918 - lr: 5.0000e-05\n",
            "\n",
            "Epoch 2: LearningRateScheduler setting learning rate to 4.900993366533776e-05.\n",
            "Epoch 2/2\n",
            "37/37 [==============================] - 32s 871ms/step - loss: 0.0784 - accuracy: 0.9771 - val_loss: 0.0320 - val_accuracy: 0.9876 - lr: 4.9010e-05\n"
          ]
        }
      ]
    },
    {
      "cell_type": "markdown",
      "source": [
        "### Test on fake test data"
      ],
      "metadata": {
        "id": "CFSCiS_maxHq"
      }
    },
    {
      "cell_type": "code",
      "source": [
        "fake_test_datagen=ImageDataGenerator(\n",
        "    rotation_range=15,\n",
        "    rescale=1./255,\n",
        "    shear_range=0.1,\n",
        "    zoom_range=0.2,\n",
        "    horizontal_flip=True,\n",
        "    width_shift_range=0.1,\n",
        "    height_shift_range=0.1\n",
        ")\n",
        "\n",
        "fake_test_generator=fake_test_datagen.flow_from_dataframe(\n",
        "    dataframe=fake_test,\n",
        "    directory=base_path,\n",
        "    x_col=\"filename\",\n",
        "    y_col=None,\n",
        "    batch_size=1,\n",
        "    seed=42,\n",
        "    shuffle=False,\n",
        "    class_mode=None,\n",
        "    target_size=(256,256)\n",
        ")\n",
        "fake_test_generator.reset()\n",
        "STEP_SIZE_TEST=fake_test_generator.n//fake_test_generator.batch_size\n",
        "pred=model.predict(fake_test_generator,\n",
        "steps=STEP_SIZE_TEST,\n",
        "verbose=1)"
      ],
      "metadata": {
        "colab": {
          "base_uri": "https://localhost:8080/"
        },
        "id": "MWFA39QHazTE",
        "outputId": "af216b12-970b-4bd0-a657-b2130c90cff2"
      },
      "execution_count": 21,
      "outputs": [
        {
          "output_type": "stream",
          "name": "stdout",
          "text": [
            "Found 474 validated image filenames.\n",
            "474/474 [==============================] - 2s 5ms/step\n"
          ]
        }
      ]
    },
    {
      "cell_type": "code",
      "source": [
        "pred[10]"
      ],
      "metadata": {
        "colab": {
          "base_uri": "https://localhost:8080/"
        },
        "id": "D342-iJWr7p6",
        "outputId": "c38f3d7a-be26-41b9-bcbe-83ae958dd8ae"
      },
      "execution_count": 22,
      "outputs": [
        {
          "output_type": "execute_result",
          "data": {
            "text/plain": [
              "array([1.0187644e-02, 6.7988353e-06, 1.5812825e-06, 2.1823048e-06,\n",
              "       2.9450496e-07, 2.7291014e-06, 4.7476915e-06, 5.6529134e-05,\n",
              "       2.2946771e-05, 9.8971409e-01, 1.5718827e-09, 4.6535327e-08,\n",
              "       1.4221284e-07, 3.4731823e-07, 9.0536167e-10], dtype=float32)"
            ]
          },
          "metadata": {},
          "execution_count": 22
        }
      ]
    },
    {
      "cell_type": "code",
      "source": [
        "predicted_class_indices=np.argmax(pred,axis=1)\n",
        "labels = (train_generator.class_indices)\n",
        "labels = dict((v,k) for k,v in labels.items())\n",
        "predictions = [labels[k] for k in predicted_class_indices]\n",
        "filenames=fake_test_generator.filenames\n",
        "results=pd.DataFrame({\"Filename\":filenames,\n",
        "                      \"Predictions\":predictions})"
      ],
      "metadata": {
        "id": "cDVpbtJwbBl_"
      },
      "execution_count": 23,
      "outputs": []
    },
    {
      "cell_type": "code",
      "source": [
        "occur = results.groupby(['Predictions']).size()\n",
        "# display occurrences of a particular column\n",
        "display(occur)"
      ],
      "metadata": {
        "colab": {
          "base_uri": "https://localhost:8080/",
          "height": 320
        },
        "id": "94kQdsMtlbDV",
        "outputId": "3c983b4e-9160-4add-89f7-09c2865ec105"
      },
      "execution_count": 24,
      "outputs": [
        {
          "output_type": "display_data",
          "data": {
            "text/plain": [
              "Predictions\n",
              "Pepper__bell___Bacterial_spot                  29\n",
              "Pepper__bell___healthy                         35\n",
              "Potato___Early_blight                          28\n",
              "Potato___Late_blight                           27\n",
              "Potato___healthy                               15\n",
              "Tomato_Bacterial_spot                          31\n",
              "Tomato_Early_blight                            25\n",
              "Tomato_Late_blight                             32\n",
              "Tomato_Leaf_Mold                               22\n",
              "Tomato_Septoria_leaf_spot                      72\n",
              "Tomato_Spider_mites_Two_spotted_spider_mite    27\n",
              "Tomato__Target_Spot                            37\n",
              "Tomato__Tomato_YellowLeaf__Curl_Virus          33\n",
              "Tomato__Tomato_mosaic_virus                    23\n",
              "Tomato_healthy                                 38\n",
              "dtype: int64"
            ]
          },
          "metadata": {}
        }
      ]
    },
    {
      "cell_type": "markdown",
      "source": [
        "### Make prediction"
      ],
      "metadata": {
        "id": "Incn2dTuEe4D"
      }
    },
    {
      "cell_type": "code",
      "source": [
        "submission_df = pd.read_csv(base_path+dataframe_filename)\n",
        "test = submission_df[submission_df[\"label\"].isna()]\n",
        "\n",
        "test_datagen=ImageDataGenerator(\n",
        "    rescale=1./255\n",
        ")\n",
        "\n",
        "test_generator=test_datagen.flow_from_dataframe(\n",
        "    dataframe=test,\n",
        "    directory=base_path,\n",
        "    x_col=\"filename\",\n",
        "    y_col=None,\n",
        "    batch_size=1,\n",
        "    seed=42,\n",
        "    shuffle=False,\n",
        "    class_mode=None,\n",
        "    target_size=(256,256)\n",
        ")"
      ],
      "metadata": {
        "colab": {
          "base_uri": "https://localhost:8080/"
        },
        "id": "1_MJ6gQVG-Yr",
        "outputId": "a5d01410-4370-4a90-8d62-e3f9c7f6f8d1"
      },
      "execution_count": 71,
      "outputs": [
        {
          "output_type": "stream",
          "name": "stdout",
          "text": [
            "Found 8052 validated image filenames.\n"
          ]
        }
      ]
    },
    {
      "cell_type": "code",
      "source": [
        "test_generator.reset()\n",
        "STEP_SIZE_TEST=test_generator.n//test_generator.batch_size\n",
        "pred=model.predict(\n",
        "    test_generator,\n",
        "    steps=STEP_SIZE_TEST,\n",
        "    verbose=1\n",
        ")"
      ],
      "metadata": {
        "colab": {
          "base_uri": "https://localhost:8080/"
        },
        "id": "kmnENJiTHBSW",
        "outputId": "471b4ccd-6924-48a5-9ca0-8d0719dbf8ba"
      },
      "execution_count": 72,
      "outputs": [
        {
          "output_type": "stream",
          "name": "stdout",
          "text": [
            "8052/8052 [==============================] - 36s 4ms/step\n"
          ]
        }
      ]
    },
    {
      "cell_type": "code",
      "source": [
        "predicted_class_indices=np.argmax(pred,axis=1)\n",
        "labels = (train_generator.class_indices)\n",
        "labels = dict((v,k) for k,v in labels.items())\n",
        "predictions = [labels[k] for k in predicted_class_indices]\n",
        "filenames=test_generator.filenames\n",
        "results=pd.DataFrame({\"Filename\":filenames,\n",
        "                      \"Predictions\":predictions})\n",
        "occur = results.groupby(['Predictions']).size()\n",
        "# display occurrences of a particular column\n",
        "display(occur)\n",
        "\n",
        "for row in test.itertuples():\n",
        "    id = row.ID\n",
        "    idx = filenames.index(row.filename)\n",
        "    submission_df.at[id, 'label'] = predictions[idx]"
      ],
      "metadata": {
        "colab": {
          "base_uri": "https://localhost:8080/",
          "height": 320
        },
        "id": "i5xXrSWaI5JM",
        "outputId": "c20c5cce-1abb-4f8f-bc36-1660082450ac"
      },
      "execution_count": 73,
      "outputs": [
        {
          "output_type": "display_data",
          "data": {
            "text/plain": [
              "Predictions\n",
              "Pepper__bell___Bacterial_spot                   386\n",
              "Pepper__bell___healthy                          575\n",
              "Potato___Early_blight                           390\n",
              "Potato___Late_blight                            379\n",
              "Potato___healthy                                 67\n",
              "Tomato_Bacterial_spot                           786\n",
              "Tomato_Early_blight                             469\n",
              "Tomato_Late_blight                             1093\n",
              "Tomato_Leaf_Mold                                390\n",
              "Tomato_Septoria_leaf_spot                       679\n",
              "Tomato_Spider_mites_Two_spotted_spider_mite     555\n",
              "Tomato__Target_Spot                             532\n",
              "Tomato__Tomato_YellowLeaf__Curl_Virus           956\n",
              "Tomato__Tomato_mosaic_virus                     147\n",
              "Tomato_healthy                                  648\n",
              "dtype: int64"
            ]
          },
          "metadata": {}
        }
      ]
    },
    {
      "cell_type": "code",
      "source": [
        "name = f\"result-{time.time()}.csv\"\n",
        "print(name)\n",
        "submission_df.to_csv(name)"
      ],
      "metadata": {
        "colab": {
          "base_uri": "https://localhost:8080/"
        },
        "id": "OMzdlIMKK7Qx",
        "outputId": "ef7486ea-3476-47ce-e0b3-2f333804344f"
      },
      "execution_count": 74,
      "outputs": [
        {
          "output_type": "stream",
          "name": "stdout",
          "text": [
            "result-1665329189.3262448.csv\n"
          ]
        }
      ]
    },
    {
      "cell_type": "code",
      "source": [],
      "metadata": {
        "id": "KbNtVe7XUFmM"
      },
      "execution_count": null,
      "outputs": []
    }
  ]
}